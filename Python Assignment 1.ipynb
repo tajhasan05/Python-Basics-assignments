{
 "cells": [
  {
   "cell_type": "code",
   "execution_count": null,
   "id": "c6602c2c",
   "metadata": {},
   "outputs": [],
   "source": [
    "1. In the below elements which of them are values or an expression?\n",
    "   eg:- values can be integer or string and expressions will be mathematical operators.\n",
    "\n",
    "answer:-    *                 it is mathematical operators.\n",
    "        'hello'               string\n",
    "\n",
    "         -                    mathematical operators\n",
    "\n",
    "         /                    mathematical operators\n",
    "\n",
    "         +                    mathematical operators\n",
    "\n",
    "         6                    integer\n",
    "\n",
    "\n",
    "2. What is the difference between string and variable?\n",
    "\n",
    "answer:- variable is the name of the location in the primary memory of the computer where we store the information. And string is a type of information stored in a variable.\n",
    "\n",
    "string can be written in quotes such as \"india\"\n",
    "\n",
    "\n",
    "\n",
    "3. describe three different data types.\n",
    "\n",
    "answer:-  integer-  can store only numerical values.\n",
    "\n",
    "          floating- floating can store only floating number i,e,.decimal number such as 34.44 , 343.44 etc.\n",
    "          \n",
    "          list-     it is used for storing multiple data items in a single variable.\n",
    "        \n",
    "        \n",
    "        \n",
    "\n",
    "4. What is an expression made up of? what do all expression do?\n",
    "\n",
    "answer:-    Expression is made up of value, variable and mathematical operators. Expression evaluates all data values. \n",
    "\n",
    "            it represent something like a integer, a string etc.\n",
    "            \n",
    "            e.g   a = 4+4\n",
    "            \n",
    "                       where 4 is an integer and + is mathematical operators.\n",
    "                \n",
    "                \n",
    "                \n",
    "                       \n",
    "5. This assignment statements, like spam = 10. What is the difference between an expression and a statement?\n",
    "\n",
    "answer:-  Expression is made up of value, variable and mathematical operators. it evaluates the values. \n",
    "    \n",
    "          where as a statement represent a command like print statement.\n",
    "        \n",
    "        \n",
    "        \n",
    "          \n",
    "6. After running the following code, what does the variable bacon contain? \n",
    "\n",
    "    bacon = 22\n",
    "\n",
    "    bacon + 1\n",
    "    \n",
    "Answer:-  it gives 23 after execution.\n",
    "    "
   ]
  },
  {
   "cell_type": "code",
   "execution_count": 1,
   "id": "3c7444a4",
   "metadata": {},
   "outputs": [],
   "source": [
    "bacon = 22"
   ]
  },
  {
   "cell_type": "code",
   "execution_count": 2,
   "id": "50b25809",
   "metadata": {},
   "outputs": [
    {
     "data": {
      "text/plain": [
       "23"
      ]
     },
     "execution_count": 2,
     "metadata": {},
     "output_type": "execute_result"
    }
   ],
   "source": [
    "bacon + 1"
   ]
  },
  {
   "cell_type": "code",
   "execution_count": null,
   "id": "6ff7b608",
   "metadata": {},
   "outputs": [],
   "source": [
    "7. What should the values of the following two terms be?\n",
    "\n",
    "'spam' + 'spamspam'\n",
    "\n",
    "'spam' * 3\n",
    "\n",
    "Answer:- after execution the output is same for both the terms.\n"
   ]
  },
  {
   "cell_type": "code",
   "execution_count": 5,
   "id": "5eeff928",
   "metadata": {},
   "outputs": [
    {
     "data": {
      "text/plain": [
       "'spamspamspam'"
      ]
     },
     "execution_count": 5,
     "metadata": {},
     "output_type": "execute_result"
    }
   ],
   "source": [
    "'spam' + 'spamspam'"
   ]
  },
  {
   "cell_type": "code",
   "execution_count": 6,
   "id": "18de2b4f",
   "metadata": {},
   "outputs": [
    {
     "data": {
      "text/plain": [
       "'spamspamspam'"
      ]
     },
     "execution_count": 6,
     "metadata": {},
     "output_type": "execute_result"
    }
   ],
   "source": [
    "'spam' * 3"
   ]
  },
  {
   "cell_type": "code",
   "execution_count": null,
   "id": "f68e37b9",
   "metadata": {},
   "outputs": [],
   "source": [
    "8. Why is eggs a valid variable name while 100 is invalid?\n",
    "\n",
    "Answer:- Egg is a valid variable name because it is not started with numbers. \n",
    "         And 100 is invalid because it is not being started with string and then integer like egg100.\n",
    "         \n",
    "         \n",
    "\n",
    "\n",
    "9. What three functions can be used to get the integer, floating-point number, or string version of a value?\n",
    "\n",
    "Answer:- int() \n",
    "         float() \n",
    "         str()\n",
    "\n",
    "\n",
    "\n",
    "\n",
    "10. Why does this expression cause an error? How can you fix it?\n",
    "    'I have eaten' + 99 + 'burritos'\n",
    "\n",
    "Answer:- in this whole sentence 'i have eaten' and 'burritos' are strings and 99 is treated as integer,\n",
    "         so in this expression it causes an error and it can be fixed by considering 99 as a string.\n",
    "        \n",
    "        "
   ]
  }
 ],
 "metadata": {
  "kernelspec": {
   "display_name": "Python 3 (ipykernel)",
   "language": "python",
   "name": "python3"
  },
  "language_info": {
   "codemirror_mode": {
    "name": "ipython",
    "version": 3
   },
   "file_extension": ".py",
   "mimetype": "text/x-python",
   "name": "python",
   "nbconvert_exporter": "python",
   "pygments_lexer": "ipython3",
   "version": "3.9.7"
  }
 },
 "nbformat": 4,
 "nbformat_minor": 5
}
