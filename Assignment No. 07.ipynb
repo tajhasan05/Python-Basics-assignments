{
 "cells": [
  {
   "cell_type": "markdown",
   "id": "11f975d1",
   "metadata": {},
   "source": [
    "1.) What is the name of the feature responsible for generating Regex objects?\n",
    "\n",
    "\n",
    "Answer:- re.complie()\n",
    "\n",
    "\n",
    "2.) Why do raw strings often appear in Regex objects?\n",
    "\n",
    "\n",
    "Answer:- Raw strings appears so that backslashes do not have to be escaped.\n",
    "\n",
    "\n",
    "3.) What is the return value of the search() method?\n",
    "\n",
    "\n",
    "Answer:- The search() method will return None if the regex pattern is not found in the string. If the pattern is found, \n",
    "         the search() method returns a match object.\n",
    "         \n",
    "         \n",
    "4.) From a Match item, how do you get the actual strings that match the pattern?\n",
    "\n",
    "\n",
    "Answer:- If a match item is not the null value None, we can call group() on the match item to return the match result.\n",
    "\n",
    "\n",
    "5.) In the regex which created from the r'(\\d\\d\\d)-(\\d\\d\\d-\\d\\d\\d\\d)', what does group zero cover?\n",
    "    Group 2? Group 1?\n",
    "    \n",
    "    \n",
    "Answer:- Group 0 is the entire match, group 1 covers the first set of parentheses, \n",
    "         and group 2 covers the second set of parentheses.\n",
    "\n",
    "\n",
    "6.) In standard expression syntax, parentheses and intervals have distinct meanings. How can you tell\n",
    "    a regex that you want it to fit real parentheses and periods?\n",
    "\n",
    "\n",
    "\n",
    "Answer:- using backslash: \\., \\(, and \\)\n",
    "\n",
    "\n",
    "\n",
    "7.) The findall() method returns a string list or a list of string tuples. What causes it to return one of\n",
    "    the two options?\n",
    "   \n",
    "   \n",
    "   \n",
    "Answer:- If the regex has no groups, a list of strings is returned. If the regex has groups, \n",
    "         a list of tuples of strings is returned.\n",
    "         \n",
    "         explained below \n",
    "         \n",
    "         When called on a regex with no groups, such as \\d\\d\\d-\\d\\d\\d-\\d\\d\\d\\d, the method findall() returns a list of              string matches, such as ['(\\d\\d\\d)-(\\d\\d\\d\\d-\\d\\d\\d)', '(\\d\\d\\d)-(\\d\\d\\d\\d-\\d\\d\\d)'].\n",
    "         \n",
    "         \n",
    "         \n",
    "8.) In standard expressions, what does the | character mean?\n",
    "\n",
    "\n",
    "\n",
    "Answer:- The | character is called a pipe. You can use it anywhere you want to match one of many expressions. For example,       the regular expressions r'Nawab|Taj Hasan' will match either 'Nawab' or 'Taj Hasan'.\n",
    "\n",
    "\n",
    "\n",
    "9.) In regular expressions, what does the character stand for?\n",
    "\n",
    "\n",
    "\n",
    "Answer:- The ? character can either mean \"match zero or one of the preceding group\" or be used to signify nongreedy                  matching.\n",
    "\n",
    "\n",
    "\n",
    "10.) In regular expressions, what is the difference between the + and * characters?\n",
    "\n",
    "\n",
    "Answer:- The + matches one or more. The * matches zero or more.\n",
    "\n",
    "\n",
    "\n",
    "11.) What is the difference between {4} and {4,5} in regular expression?\n",
    "\n",
    "\n",
    "\n",
    "Answer:- {4} is saying \"match this pattern four times.\" {4,5} means \"match this pattern four to five times.\"\n",
    "\n",
    "\n",
    "\n",
    "12.) What do you mean by the \\d, \\w, and \\s shorthand character classes signify in regular\n",
    "     expressions? \n",
    "     \n",
    "     \n",
    "Answer:-  \\d in a regex stands for a digit character - that is, any single numberal 0 to 9.\n",
    "\n",
    "           \\w means any letter, numeric digit, or the underscore character.\n",
    "\n",
    "           \\s means any space, tab, or newline character. \n",
    "           \n",
    "           \n",
    "           \n",
    "13.)What do means by \\D, \\W, and \\S shorthand character classes signify in regular expressions?\n",
    "\n",
    "\n",
    "\n",
    "Answer:- \\d represents any character that is not a numeric digit from 0 to 9.\n",
    "\n",
    "          \\W represents any character that is not a letter, numeric digit, or the underscore character.\n",
    "\n",
    "          \\S represents any character that is not a space, tab or newline.\n",
    "          \n",
    "          \n",
    "          \n",
    "14.) What is the difference between .*? and .*?\n",
    "\n",
    "\n",
    "Answer:- \n",
    "\n",
    "\n",
    "\n",
    "15.What is the syntax for matching both numbers and lowercase letters with a character class?\n",
    "\n",
    "\n",
    "\n",
    "Answer:- [0-9a-z]\n",
    "\n",
    "\n",
    "\n",
    "16.) What is the procedure for making a normal expression in regax case insensitive?\n",
    "\n",
    "\n",
    "\n",
    "Answer:- Pass re.IGNORECASE or re.I as a second argument to re.compile(). \n",
    "         \n",
    "         \n",
    "         \n",
    "17.) What does the . character normally match? What does it match if re.DOTALL is passed as 2nd\n",
    "argument in re.compile()?     \n",
    "\n",
    "\n",
    "\n",
    "Answer:- The . character in a regular expression is called a wildcard and will match any character except for a newline.\n",
    "\n",
    "         The dot-star will match everything except a newline. \n",
    "         By passing re.DOTALL as the second argument to re.compile(), \n",
    "         we can make the dot character match all characters, including the newline character.\n",
    "         For example, newlineRegex = re.compile('.*', re.DOTALL)\n",
    "         \n",
    "         \n",
    "         \n",
    "         \n",
    "18.) If numReg = re.compile(r'\\d+'), what will numRegex.sub('X','11drummers,10 pipers, five rings, 4hen') return?\n",
    "\n",
    "\n",
    "\n",
    "Answer:- X drummers, X pipers, five rings, X hens\n"
   ]
  },
  {
   "cell_type": "code",
   "execution_count": 1,
   "id": "e9b1afb4",
   "metadata": {},
   "outputs": [],
   "source": [
    "import re"
   ]
  },
  {
   "cell_type": "code",
   "execution_count": 8,
   "id": "a4c29cc8",
   "metadata": {},
   "outputs": [],
   "source": [
    "numReg = re.compile(r'\\d+')\n"
   ]
  },
  {
   "cell_type": "code",
   "execution_count": 9,
   "id": "1b5d4b56",
   "metadata": {},
   "outputs": [
    {
     "data": {
      "text/plain": [
       "'Xdrummers , Xpipers, five rings , Xhen'"
      ]
     },
     "execution_count": 9,
     "metadata": {},
     "output_type": "execute_result"
    }
   ],
   "source": [
    "numReg.sub('X','11drummers , 10pipers, five rings , 4hen')"
   ]
  },
  {
   "cell_type": "markdown",
   "id": "74770922",
   "metadata": {},
   "source": [
    "19.) What does passing re.VERBOSE as the 2nd argument to re.compile() allow to do?\n",
    "\n",
    "\n",
    "\n",
    "Answer:- To ignore whitespace and comments inside the regular expression string.\n",
    "\n",
    "\n",
    "\n",
    "20.) How would you write a regex that match a number with comma for every three digits? It must\n",
    "match the given following.\n",
    "\n",
    "'42'\n",
    "\n",
    "'1,234'\n",
    "\n",
    "'6,368,745'\n",
    "\n",
    "but not the following:\n",
    "\n",
    "'12,34,567'(which has only two digits between the commas)\n",
    "'1234'(which lacks commas)\n",
    "\n"
   ]
  },
  {
   "cell_type": "code",
   "execution_count": 15,
   "id": "78ea6900",
   "metadata": {},
   "outputs": [],
   "source": [
    "numCommas = re.compile(r'(^\\d{1,3})(,\\d{3})*$')\n"
   ]
  },
  {
   "cell_type": "code",
   "execution_count": 20,
   "id": "908756cb",
   "metadata": {},
   "outputs": [
    {
     "ename": "AttributeError",
     "evalue": "'list' object has no attribute 'group'",
     "output_type": "error",
     "traceback": [
      "\u001b[1;31m---------------------------------------------------------------------------\u001b[0m",
      "\u001b[1;31mAttributeError\u001b[0m                            Traceback (most recent call last)",
      "\u001b[1;32m~\\AppData\\Local\\Temp/ipykernel_13708/1498065778.py\u001b[0m in \u001b[0;36m<module>\u001b[1;34m\u001b[0m\n\u001b[1;32m----> 1\u001b[1;33m \u001b[0mnumCommas\u001b[0m\u001b[1;33m.\u001b[0m\u001b[0mfindall\u001b[0m\u001b[1;33m(\u001b[0m\u001b[1;34m'12,34,567'\u001b[0m\u001b[1;33m)\u001b[0m\u001b[1;33m.\u001b[0m\u001b[0mgroup\u001b[0m\u001b[1;33m(\u001b[0m\u001b[1;33m)\u001b[0m\u001b[1;33m\u001b[0m\u001b[1;33m\u001b[0m\u001b[0m\n\u001b[0m",
      "\u001b[1;31mAttributeError\u001b[0m: 'list' object has no attribute 'group'"
     ]
    }
   ],
   "source": [
    "numCommas.search('12,34,567').group()"
   ]
  },
  {
   "cell_type": "markdown",
   "id": "2d9e556f",
   "metadata": {},
   "source": [
    "21.) How would you write a regex that matches the full name of someone whose last name is\n",
    "     Watanabe? You can assume that the first name that comes before it will always be one word that\n",
    "     begins with a capital letter. The regex must match the following:\n",
    "\n",
    "         'Haruto Watanabe'\n",
    "\n",
    "          'Alice Watanabe'\n",
    " \n",
    "          'RoboCop Watanabe'\n",
    " \n",
    "      but not the following:\n",
    "\n",
    "    'haruto Watanabe' (where the first name is not capitalized)\n",
    "    \n",
    "     'Mr. Watanabe' (where the preceding word has a nonletter character)\n",
    "     \n",
    "     'Watanabe'(which has no first name)\n",
    "     \n",
    "     'Haruto watanabe'(where Watanabe is not capitalized)\n",
    "     \n",
    "     \n",
    "     \n",
    "     \n",
    "Answer:-\n",
    "    \n",
    "    \n",
    "    "
   ]
  },
  {
   "cell_type": "code",
   "execution_count": 31,
   "id": "76ce7e2b",
   "metadata": {},
   "outputs": [],
   "source": [
    "fullName = re.compile(r'[A-Z]\\w [A-Z]\\w')"
   ]
  },
  {
   "cell_type": "code",
   "execution_count": 32,
   "id": "772f39ce",
   "metadata": {},
   "outputs": [
    {
     "ename": "SyntaxError",
     "evalue": "invalid syntax (Temp/ipykernel_13708/838528260.py, line 1)",
     "output_type": "error",
     "traceback": [
      "\u001b[1;36m  File \u001b[1;32m\"C:\\Users\\shahzad\\AppData\\Local\\Temp/ipykernel_13708/838528260.py\"\u001b[1;36m, line \u001b[1;32m1\u001b[0m\n\u001b[1;33m    mo =  fullName.findall('Haruto Watanabe, Alice Watanabe , RoboCop Watanabe, haruto Watanabe, Mr. Watanabe, Haruto watanabe') mo.group()\u001b[0m\n\u001b[1;37m                                                                                                                                 ^\u001b[0m\n\u001b[1;31mSyntaxError\u001b[0m\u001b[1;31m:\u001b[0m invalid syntax\n"
     ]
    }
   ],
   "source": [
    "mo =  fullName.findall('Haruto Watanabe, Alice Watanabe , RoboCop Watanabe, haruto Watanabe, Mr. Watanabe, Haruto watanabe') mo.group()"
   ]
  },
  {
   "cell_type": "markdown",
   "id": "6fd68dd7",
   "metadata": {},
   "source": [
    "22.) How would you write a regex that matches a sentence where the first word is either Alice, Bob,\n",
    "     or Carol; the second word is either eats, pets, or throws; the third word is apples, cats, or baseballs;\n",
    "     and the sentence ends with a period? This regex should be case-insensitive. It must match the\n",
    "     following:    \n",
    "\n",
    "        'Alice eats apples.'\n",
    "\n",
    "        'Bob pets cats.'\n",
    "\n",
    "        'Carol throws baseballs.'\n",
    "\n",
    "        'Alice throws Apples.'\n",
    "\n",
    "        'BOB EATS CATS.'\n",
    "\n",
    "         but not the following:\n",
    "\n",
    "        'RoboCop eats apples.'\n",
    "\n",
    "        'ALICE THROWS FOOTBALLS.'\n",
    "\n",
    "        'Carol eats 7 cats.'\n",
    "        \n",
    "        \n",
    "        \n",
    "        \n",
    "        \n",
    "        \n",
    "        \n",
    "        \n",
    "Answer:- senRegex = re.compile(r'(Alice|Bob|Carol)\\s(eats|pets|throws)\\s(apples|cats|baseballs).', re.I|re.DOTALL)\n",
    "\n",
    "\n",
    "\n",
    "        senRegex.findall('''Alice eats apples.'\n",
    "\n",
    "                         'Bob pets cats.'\n",
    "\n",
    "                         'Carol throws baseballs.'\n",
    "\n",
    "                         'Alice throws Apples.'\n",
    "\n",
    "                         'BOB EATS CATS.'\n",
    "\n",
    "                          but not the following:\n",
    "\n",
    "                          'Robocop eats apples.'\n",
    "\n",
    "                         'ALICE THROWS FOOTBALLS.'\n",
    "\n",
    "                         'Carol eats 7 cats.''')\n",
    "\n",
    "\n",
    "Test result: [('Alice', 'eats', 'apples'), ('Bob', 'pets', 'cats'), ('Carol', 'throws', 'baseballs'), ('Alice', 'throws', 'Apples'), ('BOB', 'EATS', 'CATS')]\n",
    "\n",
    "        \n",
    "        \n",
    "        \n",
    "        \n",
    "        "
   ]
  },
  {
   "cell_type": "code",
   "execution_count": 33,
   "id": "9d0433a6",
   "metadata": {},
   "outputs": [],
   "source": [
    "import re"
   ]
  },
  {
   "cell_type": "code",
   "execution_count": 35,
   "id": "bc2d2b32",
   "metadata": {},
   "outputs": [],
   "source": [
    "senRegex = re.compile(r'(Alice|Bob|Carol)\\s(eats|pets|throws)\\s(apples|cats|baseballs).', re.I|re.DOTALL)"
   ]
  },
  {
   "cell_type": "code",
   "execution_count": 36,
   "id": "607d7f64",
   "metadata": {},
   "outputs": [
    {
     "data": {
      "text/plain": [
       "[('Alice', 'eats', 'apples'),\n",
       " ('Bob', 'pets', 'cats'),\n",
       " ('Carol', 'throws', 'baseballs'),\n",
       " ('Alice', 'throws', 'Apples'),\n",
       " ('BOB', 'EATS', 'CATS')]"
      ]
     },
     "execution_count": 36,
     "metadata": {},
     "output_type": "execute_result"
    }
   ],
   "source": [
    "senRegex.findall('''Alice eats apples.'\n",
    "\n",
    "                         'Bob pets cats.'\n",
    "\n",
    "                         'Carol throws baseballs.'\n",
    "\n",
    "                         'Alice throws Apples.'\n",
    "\n",
    "                         'BOB EATS CATS.'\n",
    "\n",
    "                          but not the following:\n",
    "\n",
    "                          'Robocop eats apples.'\n",
    "\n",
    "                         'ALICE THROWS FOOTBALLS.'\n",
    "\n",
    "                         'Carol eats 7 cats.''')"
   ]
  },
  {
   "cell_type": "code",
   "execution_count": null,
   "id": "fc86da3f",
   "metadata": {},
   "outputs": [],
   "source": []
  }
 ],
 "metadata": {
  "kernelspec": {
   "display_name": "Python 3 (ipykernel)",
   "language": "python",
   "name": "python3"
  },
  "language_info": {
   "codemirror_mode": {
    "name": "ipython",
    "version": 3
   },
   "file_extension": ".py",
   "mimetype": "text/x-python",
   "name": "python",
   "nbconvert_exporter": "python",
   "pygments_lexer": "ipython3",
   "version": "3.9.7"
  }
 },
 "nbformat": 4,
 "nbformat_minor": 5
}
