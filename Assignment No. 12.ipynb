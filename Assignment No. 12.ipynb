{
 "cells": [
  {
   "cell_type": "markdown",
   "id": "6395c1bd",
   "metadata": {},
   "source": [
    "1.) In what modes should the PdfFileReader() and PdfFileWriter() File objects will be opened?\n",
    "\n",
    "\n",
    "\n",
    "\n",
    "Answer:- These files will be opened in binary mode., read binary (rb) for PdfFileREader() \n",
    "         and write binary (wb) PdfFileWriter()\n",
    "         \n",
    "         \n",
    "         \n",
    "        "
   ]
  },
  {
   "cell_type": "code",
   "execution_count": 2,
   "id": "b991ee93",
   "metadata": {},
   "outputs": [
    {
     "name": "stdout",
     "output_type": "stream",
     "text": [
      "Collecting PyPDF3\n",
      "  Downloading PyPDF3-1.0.6.tar.gz (294 kB)\n",
      "Requirement already satisfied: tqdm in c:\\users\\shahzad\\anaconda3\\lib\\site-packages (from PyPDF3) (4.62.3)\n",
      "Requirement already satisfied: colorama in c:\\users\\shahzad\\anaconda3\\lib\\site-packages (from tqdm->PyPDF3) (0.4.4)\n",
      "Building wheels for collected packages: PyPDF3\n",
      "  Building wheel for PyPDF3 (setup.py): started\n",
      "  Building wheel for PyPDF3 (setup.py): finished with status 'done'\n",
      "  Created wheel for PyPDF3: filename=PyPDF3-1.0.6-py3-none-any.whl size=62883 sha256=147363e14ef636bea0eca4b6c156e9ffe662cf5df0312ccf5e9a475876851fe1\n",
      "  Stored in directory: c:\\users\\shahzad\\appdata\\local\\pip\\cache\\wheels\\15\\9e\\78\\4648741042e251b4c5645f564f380d64157791c6a389711151\n",
      "Successfully built PyPDF3\n",
      "Installing collected packages: PyPDF3\n",
      "Successfully installed PyPDF3-1.0.6\n"
     ]
    }
   ],
   "source": [
    "!pip install PyPDF3"
   ]
  },
  {
   "cell_type": "markdown",
   "id": "aa0f0b06",
   "metadata": {},
   "source": [
    "2.) From a PdfFileReader object, how do you get a Page object for page 5?\n",
    "\n",
    "\n",
    "\n",
    "Answer:- Calling getPage(4) will return a Page object for page 5 since page 0 is the first page"
   ]
  },
  {
   "cell_type": "code",
   "execution_count": null,
   "id": "2f090acc",
   "metadata": {},
   "outputs": [],
   "source": [
    "import PyPDF3 as pdf\n",
    "pdfFileObj = open(\"example.pdf\",'rb')\n",
    "pdfReader = pdf.PdfFileReader(pdfFileObj)\n",
    "pageObj = pdfReader.getPage(4)\n",
    "pageObj.extractText()"
   ]
  },
  {
   "cell_type": "markdown",
   "id": "6c2996dc",
   "metadata": {},
   "source": [
    "3.) What PdfFileReader variable stores the number of pages in the PDF document?\n",
    "\n",
    "\n",
    "\n"
   ]
  },
  {
   "cell_type": "code",
   "execution_count": null,
   "id": "3eed1c05",
   "metadata": {},
   "outputs": [],
   "source": [
    "import PyPDF3 as pdf\n",
    "pdfFileObj = open(\"example.pdf\",'rb')\n",
    "pdfReader = pdf.PdfFileReader(pdfFileObj)\n",
    "pdfReader.numPages"
   ]
  },
  {
   "cell_type": "markdown",
   "id": "c0382205",
   "metadata": {},
   "source": [
    "4.) If a PdfFileReader object’s PDF is encrypted with the password swordfish, what must you do\n",
    "    before you can obtain Page objects from it?\n",
    "    \n",
    "    \n",
    "    \n",
    "    \n",
    "Answer:- Before we obtain the page object, the pdf has to be decrypted by calling .decrypt('swordfish')\n",
    "\n",
    "\n",
    "\n",
    "\n",
    "\n",
    "5.) What methods do you use to rotate a page?\n",
    "\n",
    "\n",
    "\n",
    "\n",
    "Answer:- pageObj.rotateClockwise(180)\n",
    "\n",
    "         The rotateClockwise() and rotateCounterClockwise() methods. \n",
    "         The degrees to rotate is passed as an integer argument\n",
    "         \n",
    "         \n",
    "         \n",
    "         \n",
    "         \n",
    "6.) What is the difference between a Run object and a Paragraph object?\n",
    "\n",
    "\n",
    "\n",
    "\n",
    "Answer:-   Run Objects : Runs are contiguous groups of characters within a paragraph with the same style\n",
    "\n",
    "\n",
    "\n",
    "           Paragraph Object : A document contains multiple paragraphs. A paragraph begins on a new line and contains                  multiple runs. The Document object contains a list of Paragraph objects for the paragraphs in the document.\n",
    "           (A new paragraph begins whenever the user presses ENTER or RETURN while typing in a Word document.)\n",
    "\n",
    "\n",
    "\n",
    "7.) How do you obtain a list of Paragraph objects for a Document object that’s stored in a variable\n",
    "    named doc?\n",
    "\n",
    "\n",
    "\n",
    "\n",
    "Answer:- "
   ]
  },
  {
   "cell_type": "code",
   "execution_count": null,
   "id": "4f32fc0f",
   "metadata": {},
   "outputs": [],
   "source": [
    "#!pip install python-docx\n",
    "import docx\n",
    "doc = docx.Document('abc.docx')\n",
    "doc.paragraphs\n",
    "#By using doc.paragraphs"
   ]
  },
  {
   "cell_type": "markdown",
   "id": "ff99eb23",
   "metadata": {},
   "source": [
    "8.) What type of object has bold, underline, italic, strike, and outline variables?\n",
    "\n",
    "\n",
    "\n",
    "\n",
    "Answer:-  A Run object has bold, underline,italic,strike and outline variables\n",
    "\n",
    "\n",
    "\n",
    "\n",
    "\n",
    "9.) What is the difference between False, True, and None for the bold variable?\n",
    "\n",
    "\n",
    "\n",
    "\n",
    "Answer:- Runs can be further styled using text attributes. Each attribute can be set to one of three values:\n",
    "         True (the attribute is always enabled, no matter what other styles are applied to the run),\n",
    "         False (the attribute is always disabled), None (defaults to whatever the run’s style is set to)\n",
    "\n",
    "         True always makes the Run object bolded and False makes it always not bolded, \n",
    "         no matter what the style’s bold setting is. None will make the Run object just use the style’s bold setting\n",
    "\n",
    "\n",
    "\n",
    "\n",
    "10.) How do you create a Document object for a new Word document?\n",
    "\n",
    "\n",
    "\n",
    "\n",
    "\n",
    "Answer:- By Calling the docx.Document() function.\n",
    "\n",
    "\n",
    "\n",
    "\n",
    "\n",
    "11.) How do you add a paragraph with the text 'Hello, there!' to a Document object stored in a\n",
    "     variable named doc?\n",
    "     \n",
    "     \n",
    "     \n",
    "     \n",
    "     \n",
    "Answer:-"
   ]
  },
  {
   "cell_type": "code",
   "execution_count": null,
   "id": "9ed77b8f",
   "metadata": {},
   "outputs": [],
   "source": [
    "import docx\n",
    "doc = docx.Document()\n",
    "\n",
    "doc.add_paragraph('Hello there!')\n",
    "doc.save('hellothere.docx')"
   ]
  },
  {
   "cell_type": "markdown",
   "id": "c7c1741c",
   "metadata": {},
   "source": [
    "12.) What integers represent the levels of headings available in Word documents?\n",
    "\n",
    "\n",
    "\n",
    "\n",
    "Answer:- integer from 0 to 4 The arguments to add_heading() are a string of the heading text and an integer from 0 to 4.            The integer 0 makes the heading the Title style, which is used for the top of the document. \n",
    "         Integers 1 to 4 are for various heading levels, with 1 being the main heading and 4 the lowest subheading"
   ]
  }
 ],
 "metadata": {
  "kernelspec": {
   "display_name": "Python 3 (ipykernel)",
   "language": "python",
   "name": "python3"
  },
  "language_info": {
   "codemirror_mode": {
    "name": "ipython",
    "version": 3
   },
   "file_extension": ".py",
   "mimetype": "text/x-python",
   "name": "python",
   "nbconvert_exporter": "python",
   "pygments_lexer": "ipython3",
   "version": "3.9.7"
  }
 },
 "nbformat": 4,
 "nbformat_minor": 5
}
