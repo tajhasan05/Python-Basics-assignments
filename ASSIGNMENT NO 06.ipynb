{
 "cells": [
  {
   "cell_type": "markdown",
   "id": "4e8d99a7",
   "metadata": {},
   "source": [
    "#1. What are escape characters, and how do you use them?\n",
    "\n",
    "\n",
    "\n",
    "Answer: In Python strings, the backslash \"\\\" is a special character, also called the \"escape\" character. \n",
    "    It is used in representing certain whitespace characters: \"\\t\" is a tab, \"\\n\" is a newline, and \"\\r\" is a carriage return. \n",
    "    Conversely, prefixing a special character with \"\\\" turns it into an ordinary character.\n",
    "    \n",
    "    \n",
    "    \n",
    "    \n",
    "#2. What do the escape characters n and t stand for?\n",
    "\n",
    "\n",
    "Answer: It is used in representing certain whitespace characters: \"\\n\" is a newline and \"\\t\" is a tab.\n",
    "        \n",
    "        \n",
    "        \n",
    "        \n",
    "#3. What is the way to include backslash characters in a string?\n",
    "\n",
    "\n",
    "\n",
    "Answer: by using the syntax \"\\\\\" \n",
    "    \n",
    "    \n",
    "\n",
    "    \n",
    "#4. The string \"howl's Moving Castle\" is a correct value. Why isn't the single quote character in the\n",
    "   word How's not escaped a problem?\n",
    "   \n",
    "   \n",
    "   \n",
    "   \n",
    "Answer: The single quote in Howl's is fine because you've used double quotes \n",
    "        to mark the beginning and end of the string.\n",
    "    \n",
    "    \n",
    "    \n",
    "    \n",
    "    "
   ]
  },
  {
   "cell_type": "code",
   "execution_count": 1,
   "id": "6bb1ac8c",
   "metadata": {},
   "outputs": [],
   "source": [
    "s = (\"Howl's moving castle\")"
   ]
  },
  {
   "cell_type": "code",
   "execution_count": 2,
   "id": "19063963",
   "metadata": {},
   "outputs": [
    {
     "data": {
      "text/plain": [
       "\"Howl's moving castle\""
      ]
     },
     "execution_count": 2,
     "metadata": {},
     "output_type": "execute_result"
    }
   ],
   "source": [
    "s"
   ]
  },
  {
   "cell_type": "code",
   "execution_count": 6,
   "id": "9dc06924",
   "metadata": {},
   "outputs": [
    {
     "ename": "SyntaxError",
     "evalue": "invalid syntax (Temp/ipykernel_29748/3617910176.py, line 1)",
     "output_type": "error",
     "traceback": [
      "\u001b[1;36m  File \u001b[1;32m\"C:\\Users\\shahzad\\AppData\\Local\\Temp/ipykernel_29748/3617910176.py\"\u001b[1;36m, line \u001b[1;32m1\u001b[0m\n\u001b[1;33m    s = ('Howl's moving castle')\u001b[0m\n\u001b[1;37m               ^\u001b[0m\n\u001b[1;31mSyntaxError\u001b[0m\u001b[1;31m:\u001b[0m invalid syntax\n"
     ]
    }
   ],
   "source": [
    "s = ('Howl's moving castle')"
   ]
  },
  {
   "cell_type": "markdown",
   "id": "b074c629",
   "metadata": {},
   "source": [
    "#5. How do you write a string of newlines if you don't want to use the n character?\n",
    "\n",
    "\n",
    "\n",
    "Answer: we can print strings without using n character a new line (\\n) with end = <character>, \n",
    "        which <character> is the character that will be used to separate the lines.\n",
    "    \n",
    "        end = \" \"\n",
    "    \n",
    "    \n",
    "    \n",
    "    \n",
    "#6. What are the values of the given expressions?\n",
    "    \n",
    "    'Hello, world!'[1]\n",
    "    \n",
    "    'Hello, world!'[0:5]\n",
    "    \n",
    "    'Hello, world!'[:5]\n",
    "    \n",
    "    'Hello, world!'[3:]"
   ]
  },
  {
   "cell_type": "code",
   "execution_count": 16,
   "id": "7883f490",
   "metadata": {},
   "outputs": [
    {
     "data": {
      "text/plain": [
       "'e'"
      ]
     },
     "execution_count": 16,
     "metadata": {},
     "output_type": "execute_result"
    }
   ],
   "source": [
    "'Hello, world!'[1]"
   ]
  },
  {
   "cell_type": "code",
   "execution_count": 17,
   "id": "6591d1fe",
   "metadata": {},
   "outputs": [
    {
     "data": {
      "text/plain": [
       "'Hello'"
      ]
     },
     "execution_count": 17,
     "metadata": {},
     "output_type": "execute_result"
    }
   ],
   "source": [
    "'Hello, world!'[0:5]"
   ]
  },
  {
   "cell_type": "code",
   "execution_count": 18,
   "id": "5db6d72a",
   "metadata": {},
   "outputs": [
    {
     "data": {
      "text/plain": [
       "'Hello'"
      ]
     },
     "execution_count": 18,
     "metadata": {},
     "output_type": "execute_result"
    }
   ],
   "source": [
    "'Hello, world!'[:5]"
   ]
  },
  {
   "cell_type": "code",
   "execution_count": 19,
   "id": "80e94fa0",
   "metadata": {},
   "outputs": [
    {
     "data": {
      "text/plain": [
       "'lo, world!'"
      ]
     },
     "execution_count": 19,
     "metadata": {},
     "output_type": "execute_result"
    }
   ],
   "source": [
    "'Hello, world!'[3:]"
   ]
  },
  {
   "cell_type": "code",
   "execution_count": null,
   "id": "40461ae5",
   "metadata": {},
   "outputs": [],
   "source": [
    "#7. What are the values of the following expressions?\n",
    "\n",
    "    'Hello'.upper()\n",
    "    \n",
    "    'Hello'.upper().isupper()\n",
    "    \n",
    "    'Hello'.upper().lower()"
   ]
  },
  {
   "cell_type": "code",
   "execution_count": 20,
   "id": "9bccd771",
   "metadata": {},
   "outputs": [
    {
     "data": {
      "text/plain": [
       "'HELLO'"
      ]
     },
     "execution_count": 20,
     "metadata": {},
     "output_type": "execute_result"
    }
   ],
   "source": [
    "'Hello'.upper() "
   ]
  },
  {
   "cell_type": "code",
   "execution_count": 21,
   "id": "db53ea2b",
   "metadata": {},
   "outputs": [
    {
     "data": {
      "text/plain": [
       "True"
      ]
     },
     "execution_count": 21,
     "metadata": {},
     "output_type": "execute_result"
    }
   ],
   "source": [
    "'Hello'.upper().isupper()"
   ]
  },
  {
   "cell_type": "code",
   "execution_count": 22,
   "id": "d7ccae2f",
   "metadata": {},
   "outputs": [
    {
     "data": {
      "text/plain": [
       "'hello'"
      ]
     },
     "execution_count": 22,
     "metadata": {},
     "output_type": "execute_result"
    }
   ],
   "source": [
    "'Hello'.upper().lower()"
   ]
  },
  {
   "cell_type": "code",
   "execution_count": null,
   "id": "1c0b8148",
   "metadata": {},
   "outputs": [],
   "source": [
    "#8. What are the values of the following expressions?\n",
    "\n",
    "   'Remember, remember, the fifth of July.'.split()\n",
    "\n",
    "    '_'.join('There can only one.'.split())\n",
    "    \n",
    "    \n",
    "    \n"
   ]
  },
  {
   "cell_type": "code",
   "execution_count": 23,
   "id": "491a9fe9",
   "metadata": {},
   "outputs": [
    {
     "data": {
      "text/plain": [
       "['Remember,', 'remember,', 'the', 'fifth', 'of', 'July.']"
      ]
     },
     "execution_count": 23,
     "metadata": {},
     "output_type": "execute_result"
    }
   ],
   "source": [
    "'Remember, remember, the fifth of July.'.split()"
   ]
  },
  {
   "cell_type": "code",
   "execution_count": 24,
   "id": "64ccf4c8",
   "metadata": {},
   "outputs": [
    {
     "data": {
      "text/plain": [
       "'There_can_only_one.'"
      ]
     },
     "execution_count": 24,
     "metadata": {},
     "output_type": "execute_result"
    }
   ],
   "source": [
    "'_'.join('There can only one.'.split())"
   ]
  },
  {
   "cell_type": "code",
   "execution_count": null,
   "id": "7dfaf8f4",
   "metadata": {},
   "outputs": [],
   "source": [
    "#9. What are the methods for right-justifying, left-justifying, and centering a string?\n",
    "\n",
    "\n",
    "\n",
    "Answer: "
   ]
  },
  {
   "cell_type": "code",
   "execution_count": 26,
   "id": "eb0eb75c",
   "metadata": {},
   "outputs": [
    {
     "data": {
      "text/plain": [
       "'************taj'"
      ]
     },
     "execution_count": 26,
     "metadata": {},
     "output_type": "execute_result"
    }
   ],
   "source": [
    "#example for right-justifying\n",
    "str = \"taj\"\n",
    "str.rjust(15, \"*\")"
   ]
  },
  {
   "cell_type": "code",
   "execution_count": 28,
   "id": "e8ee3ef9",
   "metadata": {},
   "outputs": [
    {
     "data": {
      "text/plain": [
       "'hasan!!!!!!!!!!!!!!!!!!!!!!!!!!!!!!!!!!!!!!!!!!!!!'"
      ]
     },
     "execution_count": 28,
     "metadata": {},
     "output_type": "execute_result"
    }
   ],
   "source": [
    "#example for left-justifying\n",
    "str = \"hasan\"\n",
    "str.ljust(50, \"!\")"
   ]
  },
  {
   "cell_type": "code",
   "execution_count": 29,
   "id": "45ac29fe",
   "metadata": {},
   "outputs": [
    {
     "data": {
      "text/plain": [
       "'*********************mansuri**********************'"
      ]
     },
     "execution_count": 29,
     "metadata": {},
     "output_type": "execute_result"
    }
   ],
   "source": [
    "#example for left-justifying\n",
    "str = \"mansuri\"\n",
    "str.center(50, \"*\")"
   ]
  },
  {
   "cell_type": "markdown",
   "id": "fdc802ae",
   "metadata": {},
   "source": [
    "#10. What is the best way to remove whitespace characters from the start or end?\n",
    "\n",
    "\n",
    "\n"
   ]
  },
  {
   "cell_type": "code",
   "execution_count": 34,
   "id": "1311e1b0",
   "metadata": {},
   "outputs": [
    {
     "data": {
      "text/plain": [
       "'taj hasan '"
      ]
     },
     "execution_count": 34,
     "metadata": {},
     "output_type": "execute_result"
    }
   ],
   "source": [
    "str = \" taj hasan \"\n",
    "str.lstrip()"
   ]
  },
  {
   "cell_type": "code",
   "execution_count": 35,
   "id": "db643638",
   "metadata": {},
   "outputs": [
    {
     "data": {
      "text/plain": [
       "' taj hasan'"
      ]
     },
     "execution_count": 35,
     "metadata": {},
     "output_type": "execute_result"
    }
   ],
   "source": [
    "str = \" taj hasan \"\n",
    "str.rstrip()"
   ]
  },
  {
   "cell_type": "code",
   "execution_count": null,
   "id": "9da216d5",
   "metadata": {},
   "outputs": [],
   "source": []
  }
 ],
 "metadata": {
  "kernelspec": {
   "display_name": "Python 3 (ipykernel)",
   "language": "python",
   "name": "python3"
  },
  "language_info": {
   "codemirror_mode": {
    "name": "ipython",
    "version": 3
   },
   "file_extension": ".py",
   "mimetype": "text/x-python",
   "name": "python",
   "nbconvert_exporter": "python",
   "pygments_lexer": "ipython3",
   "version": "3.9.7"
  }
 },
 "nbformat": 4,
 "nbformat_minor": 5
}
