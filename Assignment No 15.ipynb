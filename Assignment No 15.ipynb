{
 "cells": [
  {
   "cell_type": "markdown",
   "id": "dfae2423",
   "metadata": {},
   "source": [
    "1.) How many seconds are in an hour? Use the interactive interpreter as a calculator and multiply the\n",
    "     number of seconds in a minute (60) by the number of minutes in an hour (also 60).\n",
    "     \n",
    "     \n",
    "     \n",
    "     \n",
    "Answer:- "
   ]
  },
  {
   "cell_type": "code",
   "execution_count": 2,
   "id": "33b6b7ce",
   "metadata": {},
   "outputs": [
    {
     "data": {
      "text/plain": [
       "3600"
      ]
     },
     "execution_count": 2,
     "metadata": {},
     "output_type": "execute_result"
    }
   ],
   "source": [
    "60*60"
   ]
  },
  {
   "cell_type": "markdown",
   "id": "49453aa5",
   "metadata": {},
   "source": [
    "1.) Assign the result from the previous task (seconds in an hour) to a variable called\n",
    "    seconds_per_hour."
   ]
  },
  {
   "cell_type": "code",
   "execution_count": 3,
   "id": "87904398",
   "metadata": {},
   "outputs": [],
   "source": [
    "seconds_per_hour = 3600"
   ]
  },
  {
   "cell_type": "markdown",
   "id": "68d69d7f",
   "metadata": {},
   "source": [
    "3.) How many seconds do you think there are in a day? Make use of the variables seconds per hour\n",
    "    and minutes per hour."
   ]
  },
  {
   "cell_type": "code",
   "execution_count": 4,
   "id": "4c536e2d",
   "metadata": {},
   "outputs": [
    {
     "data": {
      "text/plain": [
       "86400"
      ]
     },
     "execution_count": 4,
     "metadata": {},
     "output_type": "execute_result"
    }
   ],
   "source": [
    "seconds_per_hour * 24"
   ]
  },
  {
   "cell_type": "markdown",
   "id": "67acd17d",
   "metadata": {},
   "source": [
    "4.) Calculate seconds per day again, but this time save the result in a variable called seconds_per_day\n",
    "\n"
   ]
  },
  {
   "cell_type": "code",
   "execution_count": 5,
   "id": "ab3ba2a7",
   "metadata": {},
   "outputs": [],
   "source": [
    "seconds_per_day = seconds_per_hour * 24"
   ]
  },
  {
   "cell_type": "code",
   "execution_count": 6,
   "id": "a79652c5",
   "metadata": {},
   "outputs": [
    {
     "data": {
      "text/plain": [
       "86400"
      ]
     },
     "execution_count": 6,
     "metadata": {},
     "output_type": "execute_result"
    }
   ],
   "source": [
    "seconds_per_day"
   ]
  },
  {
   "cell_type": "markdown",
   "id": "ef949f93",
   "metadata": {},
   "source": [
    "5.) Divide seconds_per_day by seconds_per_hour. Use floating-point (/) division.\n"
   ]
  },
  {
   "cell_type": "code",
   "execution_count": 8,
   "id": "2ff647fe",
   "metadata": {},
   "outputs": [
    {
     "data": {
      "text/plain": [
       "24.0"
      ]
     },
     "execution_count": 8,
     "metadata": {},
     "output_type": "execute_result"
    }
   ],
   "source": [
    "seconds_per_day/seconds_per_hour"
   ]
  },
  {
   "cell_type": "markdown",
   "id": "b0a6ecb4",
   "metadata": {},
   "source": [
    "6.) Divide seconds_per_day by seconds_per_hour, using integer (//) division. Did this number agree\n",
    "    with the floating-point value from the previous question, aside from the final .0?\n",
    "    "
   ]
  },
  {
   "cell_type": "code",
   "execution_count": 11,
   "id": "fc6ccead",
   "metadata": {},
   "outputs": [
    {
     "data": {
      "text/plain": [
       "24"
      ]
     },
     "execution_count": 11,
     "metadata": {},
     "output_type": "execute_result"
    }
   ],
   "source": [
    "seconds_per_day//seconds_per_hour"
   ]
  },
  {
   "cell_type": "markdown",
   "id": "4aa15a09",
   "metadata": {},
   "source": [
    "7.) Write a generator, genPrimes, that returns the sequence of prime numbers on successive calls to\n",
    "    its next() method: 2, 3, 5, 7, 11, ...\n",
    "        "
   ]
  },
  {
   "cell_type": "code",
   "execution_count": 15,
   "id": "b5429579",
   "metadata": {},
   "outputs": [],
   "source": [
    "def genPrimes():\n",
    "    primes = []\n",
    "    n = 2\n",
    "    last = n\n",
    "\n",
    "    while True:\n",
    "        for i in primes:\n",
    "            if n % i == 0:\n",
    "                n += 1\n",
    "                break\n",
    "\n",
    "        else:\n",
    "            primes.append(n)\n",
    "            last = n\n",
    "            n += 1\n",
    "            yield last"
   ]
  },
  {
   "cell_type": "code",
   "execution_count": null,
   "id": "736e370d",
   "metadata": {},
   "outputs": [],
   "source": []
  }
 ],
 "metadata": {
  "kernelspec": {
   "display_name": "Python 3 (ipykernel)",
   "language": "python",
   "name": "python3"
  },
  "language_info": {
   "codemirror_mode": {
    "name": "ipython",
    "version": 3
   },
   "file_extension": ".py",
   "mimetype": "text/x-python",
   "name": "python",
   "nbconvert_exporter": "python",
   "pygments_lexer": "ipython3",
   "version": "3.9.7"
  }
 },
 "nbformat": 4,
 "nbformat_minor": 5
}
