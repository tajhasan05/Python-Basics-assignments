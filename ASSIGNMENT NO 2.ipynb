{
 "cells": [
  {
   "cell_type": "code",
   "execution_count": null,
   "id": "1210b908",
   "metadata": {},
   "outputs": [],
   "source": [
    "1.) What are the two values of the Boolean data type? How do you write them?\n",
    "\n",
    "Answer: TRUE and FALSE are the two boolean data types.\n",
    "\n",
    "       For example: 5 < 10 is TRUE whereas,\n",
    "                    30 > 50 is FALSE\n"
   ]
  },
  {
   "cell_type": "code",
   "execution_count": 3,
   "id": "1cd016f5",
   "metadata": {},
   "outputs": [
    {
     "data": {
      "text/plain": [
       "True"
      ]
     },
     "execution_count": 3,
     "metadata": {},
     "output_type": "execute_result"
    }
   ],
   "source": [
    "5 < 10"
   ]
  },
  {
   "cell_type": "code",
   "execution_count": 4,
   "id": "0da6657d",
   "metadata": {},
   "outputs": [
    {
     "data": {
      "text/plain": [
       "False"
      ]
     },
     "execution_count": 4,
     "metadata": {},
     "output_type": "execute_result"
    }
   ],
   "source": [
    "30 > 50"
   ]
  },
  {
   "cell_type": "code",
   "execution_count": null,
   "id": "70ee2e4e",
   "metadata": {},
   "outputs": [],
   "source": [
    "2.) What are the three different types of Boolean operators?\n",
    "\n",
    "Answer: three types of boolean operaters are:-\n",
    "         \n",
    "                           a.) AND\n",
    "                           b.) OR\n",
    "                           c.) NOT\n",
    "                        \n",
    "                        \n",
    "                        \n",
    "                        \n",
    "                        \n",
    "\n",
    "3.) Make a list of each Boolean operators truth tables (i.e. every possible combination of Boolean values for the operator \n",
    "    and what it evaluate ).\n",
    "    \n",
    "Answer: TRUE is denoted by 1 whereas, FALSE is denoted by 0\n",
    "         \n",
    "         Truth Table for AND\n",
    "         \n",
    "\n",
    "         A      B     output\n",
    "         0      0       0\n",
    "         0      1       0\n",
    "         1      0       0\n",
    "         1      1       1\n",
    "         \n",
    "         \n",
    "         Truth Table for OR\n",
    "         \n",
    "         A      B      output\n",
    "         0      0       0\n",
    "         0      1       1\n",
    "         1      0       1\n",
    "         1      1       1\n",
    "         \n",
    "         \n",
    "         Truth Table for NOT\n",
    "         \n",
    "         A             output\n",
    "         0              1\n",
    "         1              0\n",
    "            \n",
    "            \n",
    "            \n",
    "            \n",
    "            \n",
    "         \n",
    "         \n",
    "        \n",
    "4.) What are the values of the following expressions?\n",
    "\n",
    "(5 > 4) and (3 == 5)\n",
    "not (5 > 4)\n",
    "(5 > 4) or (3 == 5)\n",
    "not ((5 > 4) or (3 == 5))\n",
    "(True and True) and (True == False)\n",
    "(not False) or (not True)\n",
    "         \n",
    "         \n"
   ]
  },
  {
   "cell_type": "code",
   "execution_count": 5,
   "id": "2fb77065",
   "metadata": {},
   "outputs": [
    {
     "data": {
      "text/plain": [
       "False"
      ]
     },
     "execution_count": 5,
     "metadata": {},
     "output_type": "execute_result"
    }
   ],
   "source": [
    "(5 > 4) and (3 == 5)"
   ]
  },
  {
   "cell_type": "code",
   "execution_count": 6,
   "id": "218132e0",
   "metadata": {},
   "outputs": [
    {
     "data": {
      "text/plain": [
       "False"
      ]
     },
     "execution_count": 6,
     "metadata": {},
     "output_type": "execute_result"
    }
   ],
   "source": [
    "not (5 > 4)"
   ]
  },
  {
   "cell_type": "code",
   "execution_count": 7,
   "id": "c41aa5ea",
   "metadata": {},
   "outputs": [
    {
     "data": {
      "text/plain": [
       "True"
      ]
     },
     "execution_count": 7,
     "metadata": {},
     "output_type": "execute_result"
    }
   ],
   "source": [
    "(5 > 4) or (3 == 5)"
   ]
  },
  {
   "cell_type": "code",
   "execution_count": 8,
   "id": "9d241775",
   "metadata": {},
   "outputs": [
    {
     "data": {
      "text/plain": [
       "False"
      ]
     },
     "execution_count": 8,
     "metadata": {},
     "output_type": "execute_result"
    }
   ],
   "source": [
    "not ((5 > 4) or (3 == 5))"
   ]
  },
  {
   "cell_type": "code",
   "execution_count": 9,
   "id": "f9b7bf97",
   "metadata": {},
   "outputs": [
    {
     "data": {
      "text/plain": [
       "False"
      ]
     },
     "execution_count": 9,
     "metadata": {},
     "output_type": "execute_result"
    }
   ],
   "source": [
    "(True and True) and (True == False)"
   ]
  },
  {
   "cell_type": "code",
   "execution_count": 10,
   "id": "be5b028f",
   "metadata": {},
   "outputs": [
    {
     "data": {
      "text/plain": [
       "True"
      ]
     },
     "execution_count": 10,
     "metadata": {},
     "output_type": "execute_result"
    }
   ],
   "source": [
    "(not False) or (not True)"
   ]
  },
  {
   "cell_type": "code",
   "execution_count": null,
   "id": "c20e63df",
   "metadata": {},
   "outputs": [],
   "source": [
    "5.) What are the six comparison operators?\n",
    "\n",
    "\n",
    "Answer: Six camparison operators are:-\n",
    "          \n",
    "          a.) <\n",
    "          b.) >\n",
    "          c.) ==\n",
    "          d.) <=\n",
    "          e.) >=\n",
    "          f.) !=\n",
    "            \n",
    "            \n",
    "            \n",
    "            \n",
    "          \n",
    "          \n",
    "6.) How do you tell the difference between the equal to and assignment operators? \n",
    "    Describe a condition and when you would use one.\n",
    "\n",
    "\n",
    "Answer: Equal to operator mainly compare two values and evaluates the boolean where as, \n",
    "        assignment operator used to store(assign) the value in a variable.       "
   ]
  },
  {
   "cell_type": "code",
   "execution_count": 13,
   "id": "4ae38e40",
   "metadata": {},
   "outputs": [
    {
     "name": "stdout",
     "output_type": "stream",
     "text": [
      "False\n"
     ]
    }
   ],
   "source": [
    "if (\"taj\" == \"hasan\"):\n",
    "    print(\"True\")\n",
    "else :\n",
    "    print(\"False\")"
   ]
  },
  {
   "cell_type": "code",
   "execution_count": 21,
   "id": "e940c693",
   "metadata": {},
   "outputs": [
    {
     "name": "stdout",
     "output_type": "stream",
     "text": [
      "a = 50\n"
     ]
    }
   ],
   "source": [
    "a = 50\n",
    "print(\"a =\" , a)"
   ]
  },
  {
   "cell_type": "markdown",
   "id": "a7645f37",
   "metadata": {},
   "source": [
    "7.) Identify the three blocks in this code:\n",
    "\n"
   ]
  },
  {
   "cell_type": "code",
   "execution_count": 23,
   "id": "3b6af133",
   "metadata": {},
   "outputs": [
    {
     "name": "stdout",
     "output_type": "stream",
     "text": [
      "ham\n",
      "spam\n",
      "spam\n"
     ]
    }
   ],
   "source": [
    "spam = 0\n",
    "if spam == 10:         # FIRST BLOCK\n",
    "    print(\"eggs\")\n",
    "if spam > 5:            #SECOND BLOCK\n",
    "    print(\"bacon\")\n",
    "else:                    # THIRD BLOCK\n",
    "    print(\"ham\")\n",
    "    print(\"spam\")\n",
    "    print(\"spam\")\n",
    "    "
   ]
  },
  {
   "cell_type": "markdown",
   "id": "14f5f3fe",
   "metadata": {},
   "source": [
    "8.) Write code that prints Hello if 1 is stored in spam, prints Howdy if 2 is stored in spam, and prints\n",
    "    Greetings! if anything else is stored in spam.\n",
    "    \n",
    "    "
   ]
  },
  {
   "cell_type": "code",
   "execution_count": 36,
   "id": "f7b6f55e",
   "metadata": {},
   "outputs": [
    {
     "name": "stdout",
     "output_type": "stream",
     "text": [
      "1\n",
      "Hello\n"
     ]
    }
   ],
   "source": [
    "spam = input()\n",
    "if int(spam) == 1:\n",
    "    print(\"Hello\")\n",
    "elif int(spam) == 2:\n",
    "    print(\"Howdy\")\n",
    "else:\n",
    "    print(\"Greetings!\")"
   ]
  },
  {
   "cell_type": "markdown",
   "id": "eed02a35",
   "metadata": {},
   "source": [
    "9.If your programme is stuck in an endless loop, what keys you’ll press?\n",
    "\n",
    "\n",
    "Answer: CTRL + C\n",
    "\n",
    "\n",
    "\n",
    "\n",
    "\n",
    "10.) How can you tell the difference between break and continue?\n",
    "\n",
    "\n",
    "Answer: Break statement :-\n",
    "\n",
    "        It terminates the current working loop and passes the control to the next statement, and if the break statement resides         inside the nested loop, it passes control to the outer loop. \n",
    "        It can be used with both while and for loops.\n",
    "        \n",
    "        uses\n",
    "        \n",
    "        a) It is used when we want to skip or terminate a certain statement. \n",
    "     \n",
    "        \n",
    "        \n",
    "        Continue statement :\n",
    "        \n",
    "        it works just opposite to the break statement. Instead of terminating certain conditions, it jumps off to the very next         condition. But it will continue the execution of the loop statement as per its name.\n",
    "        \n",
    "        uses\n",
    "        \n",
    "        a) When we don’t want certain conditions to run. \n",
    "        b) When we don’t want to terminate the loop and just want to skip iteration. \n",
    "        c) When we want to continue the iteration.\n",
    "        \n",
    "        \n",
    "        \n",
    "        \n",
    "    \n",
    "        \n",
    " 11.) In a for loop, what is the difference between range(10), range(0, 10), and range(0, 10, 1)?  \n",
    " \n",
    " \n",
    " Answer: after executing the program we get the same output as a result for range(10), range(0, 10) and for range (0, 10 ,1)\n",
    "         The range(10) call ranges from 0 up to (but not including) 10, range(0, 10) tells the loop to start at 0, and \n",
    "         range(0, 10, 1) tells the loop to increase the variable by 1 on each iteration.\n"
   ]
  },
  {
   "cell_type": "code",
   "execution_count": 40,
   "id": "ea7ce5a9",
   "metadata": {},
   "outputs": [
    {
     "name": "stdout",
     "output_type": "stream",
     "text": [
      "0\n",
      "1\n",
      "2\n",
      "3\n",
      "4\n",
      "5\n",
      "6\n",
      "7\n",
      "8\n",
      "9\n"
     ]
    }
   ],
   "source": [
    "for i in range(10):\n",
    "    print(i)"
   ]
  },
  {
   "cell_type": "code",
   "execution_count": 41,
   "id": "2774ecee",
   "metadata": {},
   "outputs": [
    {
     "name": "stdout",
     "output_type": "stream",
     "text": [
      "0\n",
      "1\n",
      "2\n",
      "3\n",
      "4\n",
      "5\n",
      "6\n",
      "7\n",
      "8\n",
      "9\n"
     ]
    }
   ],
   "source": [
    "for i in range(0, 10):\n",
    "    print(i)"
   ]
  },
  {
   "cell_type": "code",
   "execution_count": 42,
   "id": "97d2420d",
   "metadata": {},
   "outputs": [
    {
     "name": "stdout",
     "output_type": "stream",
     "text": [
      "0\n",
      "1\n",
      "2\n",
      "3\n",
      "4\n",
      "5\n",
      "6\n",
      "7\n",
      "8\n",
      "9\n"
     ]
    }
   ],
   "source": [
    "for i in range(0, 10, 1):\n",
    "    print(i)"
   ]
  },
  {
   "cell_type": "markdown",
   "id": "4c0eb9f9",
   "metadata": {},
   "source": [
    "12.) Write a short program that prints the numbers 1 to 10 using a for loop. Then write an equivalent\n",
    "     program that prints the numbers 1 to 10 using a while loop.\n",
    "     \n",
    "     "
   ]
  },
  {
   "cell_type": "code",
   "execution_count": 43,
   "id": "d53bd533",
   "metadata": {},
   "outputs": [
    {
     "name": "stdout",
     "output_type": "stream",
     "text": [
      "1\n",
      "2\n",
      "3\n",
      "4\n",
      "5\n",
      "6\n",
      "7\n",
      "8\n",
      "9\n"
     ]
    }
   ],
   "source": [
    "for i in range(1, 11):\n",
    "    print(i)"
   ]
  },
  {
   "cell_type": "code",
   "execution_count": 45,
   "id": "9cdf8050",
   "metadata": {},
   "outputs": [
    {
     "name": "stdout",
     "output_type": "stream",
     "text": [
      "1\n",
      "2\n",
      "3\n",
      "4\n",
      "5\n",
      "6\n",
      "7\n",
      "8\n",
      "9\n",
      "10\n"
     ]
    }
   ],
   "source": [
    "a = 1\n",
    "while a <= 10:\n",
    "    print(a)\n",
    "    a+=1"
   ]
  },
  {
   "cell_type": "markdown",
   "id": "c729c4ff",
   "metadata": {},
   "source": [
    "13.) If you had a function named bacon() inside a module named spam, how would you call it after\n",
    "     importing spam?\n",
    "     \n",
    "  \n",
    "  \n",
    "Answer: spam.bacon()"
   ]
  }
 ],
 "metadata": {
  "kernelspec": {
   "display_name": "Python 3 (ipykernel)",
   "language": "python",
   "name": "python3"
  },
  "language_info": {
   "codemirror_mode": {
    "name": "ipython",
    "version": 3
   },
   "file_extension": ".py",
   "mimetype": "text/x-python",
   "name": "python",
   "nbconvert_exporter": "python",
   "pygments_lexer": "ipython3",
   "version": "3.9.7"
  }
 },
 "nbformat": 4,
 "nbformat_minor": 5
}
