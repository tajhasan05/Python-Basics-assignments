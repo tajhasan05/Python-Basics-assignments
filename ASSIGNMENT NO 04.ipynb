{
 "cells": [
  {
   "cell_type": "markdown",
   "id": "dac13ac2",
   "metadata": {},
   "source": [
    "1. What exactly is []?\n",
    "\n",
    "\n",
    "Answer: [] is empty list value which contains no items.\n",
    "\n",
    "\n",
    "\n",
    "2. In a list of values stored in a variable called spam, how would you assign the value 'hello' as the\n",
    "   third value? (assume [2,4,6,8,10] are in spam.) \n",
    "    Let's pretend the spam includes the list ['a', 'b', 'c', 'd'] for the next three queries.\n",
    "   \n",
    "\n",
    "Answer: l = [2,4,6,8,10]\n",
    "\n",
    "        spam[2] = 'hello'\n",
    "        \n",
    "       since the third value in a list is at index 2 because the first index is 0.\n",
    "       "
   ]
  },
  {
   "cell_type": "code",
   "execution_count": 1,
   "id": "7cda44b7",
   "metadata": {},
   "outputs": [],
   "source": [
    "spam = [2,4,6,8,10]"
   ]
  },
  {
   "cell_type": "code",
   "execution_count": 2,
   "id": "7bf07ae4",
   "metadata": {},
   "outputs": [
    {
     "name": "stdout",
     "output_type": "stream",
     "text": [
      "[2, 4, 'hello', 8, 10]\n"
     ]
    }
   ],
   "source": [
    "spam[2] = 'hello'\n",
    "print(spam)"
   ]
  },
  {
   "cell_type": "markdown",
   "id": "fb02200b",
   "metadata": {},
   "source": [
    "3. What is the value of spam[int(int('3'*2) / 11)]?\n",
    "\n",
    "Answer: after executing the above value we get the output d.\n",
    "        \n",
    "        (Note that '3' * 2 is the string '33',\n",
    "        which is passed to int() before being divided by 11. \n",
    "        This eventually evaluates to 3, spam[3] is equal to d.)\n"
   ]
  },
  {
   "cell_type": "code",
   "execution_count": 3,
   "id": "4c3d4dcc",
   "metadata": {},
   "outputs": [
    {
     "name": "stdout",
     "output_type": "stream",
     "text": [
      "d\n"
     ]
    }
   ],
   "source": [
    "spam=['a','b','c','d']\n",
    "print(spam[int(int('3'*2)//11)])"
   ]
  },
  {
   "cell_type": "markdown",
   "id": "66ba7e2d",
   "metadata": {},
   "source": [
    "4. What is the value of spam[-1]?\n",
    "\n",
    "\n",
    "Answer: soppose the list is ['a', 'b', 'c', 'd'] then the value of \n",
    "        spam[-1] will be 'd' because negative index count from end.\n",
    "\n"
   ]
  },
  {
   "cell_type": "code",
   "execution_count": 4,
   "id": "f860662d",
   "metadata": {},
   "outputs": [],
   "source": [
    "spam = ['a', 'b', 'c', 'd']"
   ]
  },
  {
   "cell_type": "code",
   "execution_count": 5,
   "id": "b72689b6",
   "metadata": {},
   "outputs": [
    {
     "data": {
      "text/plain": [
       "'d'"
      ]
     },
     "execution_count": 5,
     "metadata": {},
     "output_type": "execute_result"
    }
   ],
   "source": [
    "spam[-1]"
   ]
  },
  {
   "cell_type": "markdown",
   "id": "401892e9",
   "metadata": {},
   "source": [
    "5. what is the value of spam[-2]?\n",
    "\n",
    "\n",
    "Answer: soppose the list is ['a', 'b', 'c', 'd'] then the value of \n",
    "        spam[:2] will be ['a', 'b']\n",
    "\n"
   ]
  },
  {
   "cell_type": "code",
   "execution_count": 7,
   "id": "53799349",
   "metadata": {},
   "outputs": [],
   "source": [
    "spam = ['a', 'b', 'c', 'd']"
   ]
  },
  {
   "cell_type": "code",
   "execution_count": 8,
   "id": "f8eaf6e3",
   "metadata": {},
   "outputs": [
    {
     "data": {
      "text/plain": [
       "['a', 'b']"
      ]
     },
     "execution_count": 8,
     "metadata": {},
     "output_type": "execute_result"
    }
   ],
   "source": [
    "spam[:2]"
   ]
  },
  {
   "cell_type": "markdown",
   "id": "93a60d0a",
   "metadata": {},
   "source": [
    "Let's pretend bacon has the list [3.14, 'cat', 11, 'cat', True] for the next three questions.\n",
    "\n",
    "\n",
    "6. What is the value of bacon.index('cat')?\n",
    "\n",
    "\n",
    "Answer: 1"
   ]
  },
  {
   "cell_type": "code",
   "execution_count": 9,
   "id": "e4536a45",
   "metadata": {},
   "outputs": [],
   "source": [
    "bacon = [3.14, 'cat', 11, 'cat', True]"
   ]
  },
  {
   "cell_type": "code",
   "execution_count": 10,
   "id": "8c911de2",
   "metadata": {},
   "outputs": [
    {
     "data": {
      "text/plain": [
       "1"
      ]
     },
     "execution_count": 10,
     "metadata": {},
     "output_type": "execute_result"
    }
   ],
   "source": [
    "bacon.index('cat')"
   ]
  },
  {
   "cell_type": "markdown",
   "id": "e4e2218a",
   "metadata": {},
   "source": [
    "7. How does bacon.append(99) change the look of the list value in bacon?\n",
    "\n",
    "\n",
    "\n",
    "Answer: [3.14, 'cat', 11, 'cat', True, 99]\n"
   ]
  },
  {
   "cell_type": "code",
   "execution_count": 16,
   "id": "4df1bbb5",
   "metadata": {},
   "outputs": [],
   "source": [
    "bacon = [3.14, 'cat', 11, 'cat', True]"
   ]
  },
  {
   "cell_type": "code",
   "execution_count": 17,
   "id": "e19249a2",
   "metadata": {},
   "outputs": [],
   "source": [
    "bacon.append(99)"
   ]
  },
  {
   "cell_type": "code",
   "execution_count": 18,
   "id": "e142b6c8",
   "metadata": {},
   "outputs": [
    {
     "data": {
      "text/plain": [
       "[3.14, 'cat', 11, 'cat', True, 99]"
      ]
     },
     "execution_count": 18,
     "metadata": {},
     "output_type": "execute_result"
    }
   ],
   "source": [
    "bacon"
   ]
  },
  {
   "cell_type": "markdown",
   "id": "edbd98e2",
   "metadata": {},
   "source": [
    "8. How does bacon.remove('cat') change the look of the list in bacon?\n",
    "\n",
    "\n",
    "Answer: [3.14, 11, 'cat', True]"
   ]
  },
  {
   "cell_type": "code",
   "execution_count": 19,
   "id": "50a38f44",
   "metadata": {},
   "outputs": [],
   "source": [
    "bacon = [3.14, 'cat', 11, 'cat', True]"
   ]
  },
  {
   "cell_type": "code",
   "execution_count": 20,
   "id": "64271e5f",
   "metadata": {},
   "outputs": [],
   "source": [
    "bacon.remove('cat')"
   ]
  },
  {
   "cell_type": "code",
   "execution_count": 21,
   "id": "9816fab6",
   "metadata": {},
   "outputs": [
    {
     "data": {
      "text/plain": [
       "[3.14, 11, 'cat', True]"
      ]
     },
     "execution_count": 21,
     "metadata": {},
     "output_type": "execute_result"
    }
   ],
   "source": [
    "bacon"
   ]
  },
  {
   "cell_type": "markdown",
   "id": "e18f9806",
   "metadata": {},
   "source": [
    "9. What are the list concatenation and list replication operators?\n",
    "\n",
    "\n",
    "Answer: The operator for list concatenation is +\n",
    "        and the operator for replication is *\n",
    "        \n",
    "\n",
    "\n",
    "10. What is difference between the list methods append() and insert()?\n",
    "\n",
    "\n",
    "Answer: append() will add values only to the end of a list whereas,\n",
    "        insert() can add the values anywhere in the list.\n",
    "        \n",
    "        \n",
    "        \n",
    "        \n",
    "        \n",
    "11. What are the two methods for removing items from a list?\n",
    "\n",
    "\n",
    "Answer: remove()\n",
    "        pop()\n",
    "        \n",
    "        \n",
    "        \n",
    "        \n",
    "12. Describe how list values and string values are identical.\n",
    "\n",
    "\n",
    "Answer: The values that make up a list are called its elements. Lists are similar to strings, \n",
    "        which are ordered collections of characters, except that the elements of a list \n",
    "        can have any type and for any one list, the items can be of different types.\n",
    "        \n",
    "       \n",
    "       \n",
    "\n",
    "13. what is the difference between tuples and lists?  \n",
    "\n",
    "\n",
    "\n",
    "Answer: tuples are immutable objects and the lists are mutable. \n",
    "        This means that tuples cannot be changed while the lists can be modified. \n",
    "        Tuples are more memory efficient than the lists.\n",
    "        \n",
    "        \n",
    "        \n",
    "14. How do you type a tuple value that only contains the integer 42? \n",
    "\n",
    "\n",
    "Answer: t = (42,)       \n",
    "        "
   ]
  },
  {
   "cell_type": "code",
   "execution_count": 22,
   "id": "58842317",
   "metadata": {},
   "outputs": [],
   "source": [
    "t = (42,)"
   ]
  },
  {
   "cell_type": "code",
   "execution_count": 23,
   "id": "b5b75cf8",
   "metadata": {},
   "outputs": [
    {
     "data": {
      "text/plain": [
       "tuple"
      ]
     },
     "execution_count": 23,
     "metadata": {},
     "output_type": "execute_result"
    }
   ],
   "source": [
    "type(t)"
   ]
  },
  {
   "cell_type": "markdown",
   "id": "53d94009",
   "metadata": {},
   "source": [
    "15. How do you get a list value's tuple form? How do you get a tuple value's list form?\n",
    "\n",
    "\n",
    "\n",
    "Answer: The tuple() and list() functions, respectively are used to convert a list to tuple\n",
    "         and tuples from list.\n",
    "\n",
    "\n",
    "\n",
    "\n",
    "\n",
    "\n",
    "16. Variables that \"contains\" list values are not necessarily lists themselves. Instead, what do they\n",
    "    contain?\n",
    "\n",
    "\n",
    "\n",
    "Answer: contains references to list values.\n",
    "\n",
    "\n",
    "\n",
    "17. How do you distinguish between copy.copy() and copy.deepcopy()?\n",
    "\n",
    "\n",
    "Answer: The copy.copy() function will do a shallow copy of a list, \n",
    "        while the copy.deepcopy() function will do a deep copy of a list.\n",
    "        That is, only copy.deepcopy() will duplicate any lists inside the list.\n"
   ]
  }
 ],
 "metadata": {
  "kernelspec": {
   "display_name": "Python 3 (ipykernel)",
   "language": "python",
   "name": "python3"
  },
  "language_info": {
   "codemirror_mode": {
    "name": "ipython",
    "version": 3
   },
   "file_extension": ".py",
   "mimetype": "text/x-python",
   "name": "python",
   "nbconvert_exporter": "python",
   "pygments_lexer": "ipython3",
   "version": "3.9.7"
  }
 },
 "nbformat": 4,
 "nbformat_minor": 5
}
